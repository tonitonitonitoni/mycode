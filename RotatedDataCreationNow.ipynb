{
 "cells": [
  {
   "cell_type": "code",
   "id": "initial_id",
   "metadata": {
    "collapsed": true,
    "ExecuteTime": {
     "end_time": "2024-08-23T13:51:36.874807Z",
     "start_time": "2024-08-23T13:51:36.872028Z"
    }
   },
   "source": [
    "import cv2\n",
    "import numpy as np\n",
    "import pandas as pd\n",
    "import matplotlib.pyplot as plt\n",
    "import matplotlib as mpl\n",
    "import imutils\n",
    "imName=\"starfieldLateAug.png\""
   ],
   "outputs": [],
   "execution_count": 16
  },
  {
   "metadata": {},
   "cell_type": "markdown",
   "source": "1. Generate the master map from the Excel file corresponding to the LEDs' coordinates on the ceiling.",
   "id": "b7083147d4dc4a5"
  },
  {
   "metadata": {
    "ExecuteTime": {
     "end_time": "2024-08-23T13:51:36.945612Z",
     "start_time": "2024-08-23T13:51:36.880863Z"
    }
   },
   "cell_type": "code",
   "source": [
    "#Read and process data\n",
    "xls = pd.read_excel(\"Star Field LED Placement.xlsx\", sheet_name=\"Sheet1\")\n",
    "\n",
    "xlsEdited=xls[['X','Y','COLOR']].dropna() # Remove rows without data\n",
    "xlsReplaced=xlsEdited.replace(to_replace='GRN',value='green')\n",
    "xlsReplaced=xlsReplaced.replace(to_replace='BLU',value='blue')\n",
    "x=xlsReplaced[\"X\"]\n",
    "y=xlsReplaced[\"Y\"]\n",
    "c=xlsReplaced['COLOR']\n",
    "x=x.to_numpy()  # Change the dataframe to a numPy array\n",
    "y=y.to_numpy()  # This is because missing rows were still counted in the Series\n",
    "\n",
    "#Start the Plot\n",
    "plt.style.use('dark_background')\n",
    "mpl.rcParams['savefig.pad_inches'] = 0\n",
    "ax = plt.axes((0.,0.,1.,1.), frameon=False)\n",
    "ax.get_xaxis().set_visible(False)\n",
    "ax.get_yaxis().set_visible(False)\n",
    "\n",
    "#Generate master map of coloured stars\n",
    "plt.scatter(x,y,c=c, s=10)\n",
    "\n",
    "plt.savefig(imName, dpi=100)\n",
    "plt.show()"
   ],
   "id": "a2281b759bfe15f2",
   "outputs": [
    {
     "data": {
      "text/plain": [
       "<Figure size 640x480 with 1 Axes>"
      ],
      "image/png": "[encoded data removed]"
     },
     "metadata": {},
     "output_type": "display_data"
    }
   ],
   "execution_count": 17
  },
  {
   "metadata": {},
   "cell_type": "markdown",
   "source": "2. Translate the image so that the point at the centre of the sample image becomes the centre of the overall image. The image generates its own border on the top and left when translating, but to reach points in the far right and bottom, it's necessary to draw a border around the image on those sides.  All-black portions of the image correspond to real images of the walls of the testbed. These would be removed in processing, and no stars would be visible. ",
   "id": "701a9df2fb6b8b48"
  },
  {
   "metadata": {
    "ExecuteTime": {
     "end_time": "2024-08-23T13:51:36.953425Z",
     "start_time": "2024-08-23T13:51:36.947813Z"
    }
   },
   "cell_type": "code",
   "source": [
    "image=cv2.imread(imName)\n",
    "\n",
    "imHeight=image.shape[0]\n",
    "imWidth=image.shape[1]\n",
    "\n",
    "sampleHeight=300\n",
    "sampleWidth=400\n",
    "bordered =cv2.copyMakeBorder(image, \n",
    "                             top=0,\n",
    "                             left=0,\n",
    "                             bottom=int(imHeight/2),\n",
    "                             right=int(imWidth/2),\n",
    "                             borderType = cv2.BORDER_CONSTANT)"
   ],
   "id": "6edbd2a2d4a275f8",
   "outputs": [],
   "execution_count": 18
  },
  {
   "metadata": {
    "ExecuteTime": {
     "end_time": "2024-08-23T13:51:36.956428Z",
     "start_time": "2024-08-23T13:51:36.954316Z"
    }
   },
   "cell_type": "code",
   "source": [
    "print(imHeight)\n",
    "print(imWidth)"
   ],
   "id": "3c32388728be8dbe",
   "outputs": [
    {
     "name": "stdout",
     "output_type": "stream",
     "text": [
      "480\n",
      "640\n"
     ]
    }
   ],
   "execution_count": 19
  },
  {
   "metadata": {},
   "cell_type": "markdown",
   "source": "3.  Rotate the image around the point, and take the sample image as a rectangle centred at that point.",
   "id": "662fc4ffc4b47f00"
  },
  {
   "metadata": {
    "ExecuteTime": {
     "end_time": "2024-08-23T13:58:10.909336Z",
     "start_time": "2024-08-23T13:51:36.958156Z"
    }
   },
   "cell_type": "code",
   "source": [
    "m=0\n",
    "stride=10\n",
    "image=bordered \n",
    "outputDir=\"/users/antoniahoffman/Images/LateAugData\"\n",
    "import os\n",
    "#for i in range(0,2):\n",
    "#  for j in range(0,2):\n",
    "for i in range(0,imHeight,stride):\n",
    "  for j in range(0,imWidth,stride):\n",
    "\n",
    "    cenTest=(j,i)\n",
    "    yShift=image.shape[0]/2 -cenTest[1]\n",
    "    xShift=image.shape[1]/2 -cenTest[0]\n",
    "    cenX=cenTest[0]\n",
    "    cenY=cenTest[1]\n",
    "    M=np.float32([[1, 0, xShift],[0,1,yShift]])\n",
    "    shifted = cv2.warpAffine(image, M, (image.shape[1], image.shape[0]))\n",
    "    for angle in range(5,365,5):\n",
    "      rotated=imutils.rotate_bound(shifted,angle)\n",
    "      rotCenX=int(rotated.shape[1]/2)\n",
    "      rotCenY=int(rotated.shape[0]/2)\n",
    "      # Then take the rectangle centred at that point as the sample image\n",
    "      imsample=rotated[rotCenY-int(sampleHeight/2):rotCenY+int(sampleHeight/2), rotCenX-int(sampleWidth/2):rotCenX+int(sampleWidth/2)]\n",
    "      \n",
    "      name=f'X{int(cenX)}Y{int(cenY)}T{angle}.png'\n",
    "      fname=os.path.join(outputDir, name)\n",
    "      cv2.imwrite(fname, imsample)\n",
    "      m+=1\n",
    "print(m)"
   ],
   "id": "5fd9ed02bb585ac9",
   "outputs": [
    {
     "name": "stdout",
     "output_type": "stream",
     "text": [
      "221184\n"
     ]
    }
   ],
   "execution_count": 20
  }
 ],
 "metadata": {
  "kernelspec": {
   "display_name": "Python 3",
   "language": "python",
   "name": "python3"
  },
  "language_info": {
   "codemirror_mode": {
    "name": "ipython",
    "version": 2
   },
   "file_extension": ".py",
   "mimetype": "text/x-python",
   "name": "python",
   "nbconvert_exporter": "python",
   "pygments_lexer": "ipython2",
   "version": "2.7.6"
  }
 },
 "nbformat": 4,
 "nbformat_minor": 5
}
