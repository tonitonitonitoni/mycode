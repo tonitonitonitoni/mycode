{
 "cells": [
  {
   "cell_type": "code",
   "id": "initial_id",
   "metadata": {
    "collapsed": true,
    "ExecuteTime": {
     "end_time": "2024-12-06T17:10:06.719546Z",
     "start_time": "2024-12-06T17:10:06.714307Z"
    }
   },
   "source": [
    "import random\n",
    "import pandas as pd\n",
    "import numpy as np\n",
    "from PIL import Image\n",
    "from keras.layers import Input, Lambda, Dense, Dropout, Convolution2D, MaxPooling2D, Flatten,Activation,Concatenate\n",
    "from keras.models import Sequential, Model\n",
    "from tensorflow.keras.optimizers import Adam\n",
    "from keras.models import Model,load_model, model_from_json\n",
    "import tensorflow as tf\n",
    "import gymnasium as gym\n",
    "import math\n",
    "import pygame, sys\n",
    "from tensorflow import keras\n",
    "from collections import deque\n",
    "import math"
   ],
   "outputs": [],
   "execution_count": 30
  },
  {
   "metadata": {
    "ExecuteTime": {
     "end_time": "2024-12-06T17:10:06.731271Z",
     "start_time": "2024-12-06T17:10:06.727834Z"
    }
   },
   "cell_type": "code",
   "source": [
    "#enable eager execution in tensorflow\n",
    "#tf.config.run_functions_eagerly(True)\n",
    "env = gym.make('Pendulum-v1')\n",
    "\n",
    "input_shape = (3,)\n",
    "num_actions = 1"
   ],
   "id": "291023b0c1bbb087",
   "outputs": [],
   "execution_count": 31
  },
  {
   "metadata": {},
   "cell_type": "markdown",
   "source": [
    "This actor network has three internal Dense layers with Leaky ReLU activation\n",
    "The optimizer is ADAM with a learning rate of 0.001\n",
    "The target actor network is the same as the policy network. \n",
    "They are shallow Feed-Forward Networks with the current state as input\n",
    "The last activation used is ‘tanh’ as the action is in the range -2,2 - will need to scale"
   ],
   "id": "e9878e930700209a"
  },
  {
   "metadata": {
    "ExecuteTime": {
     "end_time": "2024-12-06T17:10:06.781736Z",
     "start_time": "2024-12-06T17:10:06.740183Z"
    }
   },
   "cell_type": "code",
   "source": [
    "def actor_network(input_shape=(3,)):\n",
    "        model = Sequential()\n",
    "        model.add(Dense(128, activation=tf.keras.layers.LeakyReLU(alpha=0.2),input_shape=input_shape))\n",
    "        model.add(Dense(64, activation=tf.keras.layers.LeakyReLU(alpha=0.2)))\n",
    "        model.add(Dense(16, activation=tf.keras.layers.LeakyReLU(alpha=0.2)))\n",
    "        model.add(Dense(num_actions,activation='tanh'))\n",
    "        return model\n",
    "\n",
    "actor, target_actor = actor_network(),actor_network()\n",
    "optimizer_actor = Adam(learning_rate=0.001)\n"
   ],
   "id": "6a35e9abd8c36241",
   "outputs": [],
   "execution_count": 32
  },
  {
   "metadata": {},
   "cell_type": "markdown",
   "source": [
    "This critic network has two inputs, both state and action\n",
    "    Critic and Target Critic have the same architecture\n",
    "    Critic intakes both state and action as input outputting the expected q-value\n",
    "    The concat variable in between the architecture helps us to combine the state and action inputs. \n",
    "    The last activation is linear as q-values are continuous values"
   ],
   "id": "629ae6375e2d45e0"
  },
  {
   "metadata": {
    "ExecuteTime": {
     "end_time": "2024-12-06T17:10:06.815800Z",
     "start_time": "2024-12-06T17:10:06.782766Z"
    }
   },
   "cell_type": "code",
   "source": [
    "def critic_network(state_dim, action_dim):\n",
    "    # Define the input layers\n",
    "    state_input = Input(shape=(state_dim,),dtype=tf.float64)\n",
    "    action_input = Input(shape=(action_dim,),dtype=tf.float64)\n",
    "\n",
    "    \n",
    "    state_h1 = Dense(128, activation=tf.keras.layers.LeakyReLU(alpha=0.2))(state_input)\n",
    "    state_h2 = Dense(64, activation=tf.keras.layers.LeakyReLU(alpha=0.2))(state_h1)\n",
    "\n",
    "    action_h1 = Dense(128, activation=tf.keras.layers.LeakyReLU(alpha=0.2))(action_input)\n",
    "    action_h2 = Dense(64, activation=tf.keras.layers.LeakyReLU(alpha=0.2))(action_h1)\n",
    "    concat = Concatenate()([state_h2, action_h2])\n",
    "\n",
    "    # Define the output layer\n",
    "    dense1 = Dense(64, activation=tf.keras.layers.LeakyReLU(alpha=0.2))(concat)\n",
    "    dense2 = Dense(32, activation=tf.keras.layers.LeakyReLU(alpha=0.2))(dense1)\n",
    "    output = Dense(1, activation='linear')(dense2)\n",
    "    \n",
    "    model = Model(inputs=[state_input, action_input], outputs=output)\n",
    "    return model\n",
    "    \n",
    "critic, target_critic = critic_network(3,1),critic_network(3,1)\n",
    "optimizer_critic = Adam(learning_rate=0.001)"
   ],
   "id": "606e4f4ee020da4e",
   "outputs": [],
   "execution_count": 33
  },
  {
   "metadata": {},
   "cell_type": "markdown",
   "source": [
    "Update target networks.  Mix of old weights and new update network weights using the variable tau\n",
    "(is this the polyak thing they were talking about at openai?)"
   ],
   "id": "d8f7c964571318bd"
  },
  {
   "metadata": {
    "ExecuteTime": {
     "end_time": "2024-12-06T17:10:06.818505Z",
     "start_time": "2024-12-06T17:10:06.816358Z"
    }
   },
   "cell_type": "code",
   "source": [
    "def update_target_networks(actor_model, critic_model, target_actor_model, target_critic_model):\n",
    "    tau = 0.05\n",
    "    # Update the target actor model\n",
    "    actor_weights = actor_model.get_weights()\n",
    "    target_actor_weights = target_actor_model.get_weights()\n",
    "    for i in range(len(actor_weights)):\n",
    "        target_actor_weights[i] = tau * actor_weights[i] + (1 - tau) * target_actor_weights[i]\n",
    "    target_actor_model.set_weights(target_actor_weights)\n",
    "\n",
    "    # Update the target critic model\n",
    "    critic_weights = critic_model.get_weights()\n",
    "    target_critic_weights = target_critic_model.get_weights()\n",
    "    for i in range(len(critic_weights)):\n",
    "        target_critic_weights[i] = tau * critic_weights[i] + (1 - tau) * target_critic_weights[i]\n",
    "    target_critic_model.set_weights(target_critic_weights)\n",
    "    return target_critic_model, target_actor_model"
   ],
   "id": "cbe22edcd3264c5d",
   "outputs": [],
   "execution_count": 34
  },
  {
   "metadata": {},
   "cell_type": "markdown",
   "source": "Noise - this person copied from a different tutorial",
   "id": "d05e8355c0ec0c59"
  },
  {
   "metadata": {
    "ExecuteTime": {
     "end_time": "2024-12-06T17:10:06.822511Z",
     "start_time": "2024-12-06T17:10:06.819745Z"
    }
   },
   "cell_type": "code",
   "source": [
    "class OrnsteinUhlenbeckActionNoise:\n",
    "    def __init__(self, mu, sigma, theta, dt, size):\n",
    "        self.mu = mu\n",
    "        self.sigma = sigma\n",
    "        self.theta = theta\n",
    "        self.dt = dt\n",
    "        self.size = size\n",
    "        self.reset()\n",
    "    \n",
    "    def reset(self):\n",
    "        self.state = np.ones(self.size) * self.mu\n",
    "    \n",
    "    def __call__(self):\n",
    "        x = self.state\n",
    "        dx = self.theta * (self.mu - x) * self.dt + self.sigma * np.sqrt(self.dt) * np.random.normal(size=self.size)\n",
    "        self.state = x + dx\n",
    "        return self.state\n",
    "\n",
    "def ddpg_add_exploration_noise(exploration_noise, action, noise_scale):\n",
    "    noise = noise_scale * exploration_noise()\n",
    "\n",
    "    action = np.clip(action + noise, -2.0, 2.0)\n",
    "    \n",
    "    return action\n",
    "\n",
    "# Usage example:\n",
    "action_dim = 1  # Dimensionality of the action space\n",
    "noise_mu = 0.0\n",
    "noise_sigma = 0.2\n",
    "noise_theta = 0.15\n",
    "noise_dt = 0.01\n",
    "\n",
    "# Create an instance of the OrnsteinUhlenbeckActionNoise class\n",
    "exploration_noise = OrnsteinUhlenbeckActionNoise(noise_mu, noise_sigma, noise_theta, noise_dt, size=action_dim)"
   ],
   "id": "a992d9de4e566edd",
   "outputs": [],
   "execution_count": 35
  },
  {
   "metadata": {},
   "cell_type": "markdown",
   "source": "Training loop",
   "id": "1fccaef26c5b82b9"
  },
  {
   "metadata": {
    "ExecuteTime": {
     "end_time": "2024-12-06T17:11:15.171581Z",
     "start_time": "2024-12-06T17:10:06.823063Z"
    }
   },
   "cell_type": "code",
   "source": [
    "gamma = tf.cast(tf.constant(0.95),tf.float64)\n",
    "num_episodes = 1000\n",
    "maxlen = 1000\n",
    "batch = 128\n",
    "replay = deque(maxlen=maxlen)\n",
    "epoch = 0\n",
    "count=0\n",
    "max_loss = math.inf\n",
    "count = 0\n",
    "epsilon = 0.99\n",
    "for episode in range(num_episodes):\n",
    "    ep_len = 0\n",
    "    state, info = env.reset()\n",
    "    print('epsilon getting updated',epsilon)\n",
    "    epsilon*=0.99\n",
    "    # Run the episode\n",
    "    while True:\n",
    "        count+=1\n",
    "        ep_len+=1\n",
    "    \n",
    "        action = 2*actor.predict(np.array(state).reshape(-1,3),verbose=0)[0]\n",
    "        action = ddpg_add_exploration_noise(exploration_noise, action, noise_scale=0.1)\n",
    "        \n",
    "        next_state, reward, done,_ ,_ = env.step(action)\n",
    "        done = 1 if done else 0\n",
    "        \n",
    "        # print('reward and status',reward,state)\n",
    "        state = state.reshape(3)\n",
    "            \n",
    "        replay.append((np.array(state),action,reward,np.array(next_state),done))\n",
    "        state = next_state\n",
    "\n",
    "        if done:\n",
    "            break\n",
    "    \n",
    "        if count>batch:\n",
    "            count = 0\n",
    "            batch_ = random.sample(replay,batch)\n",
    "            current_state = tf.convert_to_tensor([x[0] for x in batch_])\n",
    "            next_state = tf.convert_to_tensor([x[3] for x in batch_])\n",
    "            reward = tf.convert_to_tensor([x[2] for x in batch_])\n",
    "            done =   tf.convert_to_tensor([x[4] for x in batch_])\n",
    "            actions =   tf.convert_to_tensor([x[1] for x in batch_])\n",
    "            other_actions = [[1,0] for x in range(batch)]\n",
    "            \n",
    "            q_actions = target_actor(next_state) \n",
    "            target_q = tf.cast(reward,tf.float64) + (tf.cast(tf.constant(1.0),tf.float64)-tf.cast(done,tf.float64))*gamma*tf.cast(target_critic([next_state,q_actions]),tf.float64)\n",
    "\n",
    "            with tf.GradientTape() as tape:\n",
    "                current_q_value = critic([current_state,actions])\n",
    "                critic_loss = tf.reduce_mean(tf.math.pow(target_q-tf.cast(current_q_value,tf.float64),2))\n",
    "    \n",
    "            grads_critic = tape.gradient(critic_loss, critic.trainable_variables)\n",
    "            optimizer_critic.apply_gradients(zip(grads_critic, critic.trainable_variables))\n",
    "                \n",
    "            with tf.GradientTape() as tape:\n",
    "                actions = actor(current_state,training=True)                \n",
    "                current_q_value = critic([current_state,actions],training=True)\n",
    "                actor_loss = -tf.reduce_mean(current_q_value)\n",
    "                \n",
    "            grads_actor = tape.gradient(actor_loss, actor.trainable_variables)\n",
    "            optimizer_actor.apply_gradients(zip(grads_actor, actor.trainable_variables))\n",
    "\n",
    "            print('Epoch {} done with loss actor={} , critic={} !!!!!!'.format(epoch,actor_loss,critic_loss))\n",
    "            if epoch%10==0:\n",
    "                    actor.save('pendulum/actor/actor.keras')\n",
    "                    critic.save('pendulum/critic/critic.keras')\n",
    "            \n",
    "            if epoch%5==0:\n",
    "                    target_critic, target_actor = update_target_networks(actor,critic,target_actor,target_critic)\n",
    "            epoch+=1"
   ],
   "id": "ade2c8e60deda87d",
   "outputs": [
    {
     "name": "stdout",
     "output_type": "stream",
     "text": [
      "epsilon getting updated 0.99\n",
      "Epoch 0 done with loss actor=0.1405719667673111 , critic=54.10826313256703 !!!!!!\n",
      "Epoch 1 done with loss actor=0.25855425000190735 , critic=54.78034256034678 !!!!!!\n",
      "Epoch 2 done with loss actor=0.3816452622413635 , critic=53.22062670855044 !!!!!!\n",
      "Epoch 3 done with loss actor=0.4880574345588684 , critic=51.48655908790728 !!!!!!\n",
      "Epoch 4 done with loss actor=0.5843860507011414 , critic=50.69829358415643 !!!!!!\n",
      "Epoch 5 done with loss actor=0.6825251579284668 , critic=48.50471256652803 !!!!!!\n",
      "Epoch 6 done with loss actor=0.8160197138786316 , critic=46.572832202689725 !!!!!!\n",
      "Epoch 7 done with loss actor=0.9434939026832581 , critic=43.37045579773272 !!!!!!\n",
      "Epoch 8 done with loss actor=1.085705280303955 , critic=42.732261850421594 !!!!!!\n",
      "Epoch 9 done with loss actor=1.292078971862793 , critic=42.939582990018955 !!!!!!\n",
      "Epoch 10 done with loss actor=1.3876368999481201 , critic=38.09702863802654 !!!!!!\n",
      "Epoch 11 done with loss actor=1.6260749101638794 , critic=40.07208360465813 !!!!!!\n",
      "Epoch 12 done with loss actor=1.8730535507202148 , critic=36.69056136727742 !!!!!!\n",
      "Epoch 13 done with loss actor=1.9784250259399414 , critic=32.605011534248206 !!!!!!\n",
      "Epoch 14 done with loss actor=2.2773237228393555 , critic=33.66820834909409 !!!!!!\n",
      "Epoch 15 done with loss actor=2.4685277938842773 , critic=32.336431757200465 !!!!!!\n",
      "Epoch 16 done with loss actor=2.6731948852539062 , critic=31.297664434416234 !!!!!!\n",
      "Epoch 17 done with loss actor=2.9077768325805664 , critic=29.53871247417144 !!!!!!\n",
      "Epoch 18 done with loss actor=3.1940112113952637 , critic=28.29775226594822 !!!!!!\n",
      "Epoch 19 done with loss actor=3.4244613647460938 , critic=25.092621692569438 !!!!!!\n",
      "Epoch 20 done with loss actor=3.7103543281555176 , critic=22.621295477924075 !!!!!!\n",
      "Epoch 21 done with loss actor=4.074784278869629 , critic=18.826566423474137 !!!!!!\n",
      "Epoch 22 done with loss actor=4.735906600952148 , critic=15.214456450902297 !!!!!!\n",
      "Epoch 23 done with loss actor=5.513584136962891 , critic=12.774476017951105 !!!!!!\n"
     ]
    },
    {
     "ename": "KeyboardInterrupt",
     "evalue": "",
     "output_type": "error",
     "traceback": [
      "\u001B[0;31m---------------------------------------------------------------------------\u001B[0m",
      "\u001B[0;31mKeyboardInterrupt\u001B[0m                         Traceback (most recent call last)",
      "Cell \u001B[0;32mIn[36], line 21\u001B[0m\n\u001B[1;32m     18\u001B[0m count\u001B[38;5;241m+\u001B[39m\u001B[38;5;241m=\u001B[39m\u001B[38;5;241m1\u001B[39m\n\u001B[1;32m     19\u001B[0m ep_len\u001B[38;5;241m+\u001B[39m\u001B[38;5;241m=\u001B[39m\u001B[38;5;241m1\u001B[39m\n\u001B[0;32m---> 21\u001B[0m action \u001B[38;5;241m=\u001B[39m \u001B[38;5;241m2\u001B[39m\u001B[38;5;241m*\u001B[39m\u001B[43mactor\u001B[49m\u001B[38;5;241;43m.\u001B[39;49m\u001B[43mpredict\u001B[49m\u001B[43m(\u001B[49m\u001B[43mnp\u001B[49m\u001B[38;5;241;43m.\u001B[39;49m\u001B[43marray\u001B[49m\u001B[43m(\u001B[49m\u001B[43mstate\u001B[49m\u001B[43m)\u001B[49m\u001B[38;5;241;43m.\u001B[39;49m\u001B[43mreshape\u001B[49m\u001B[43m(\u001B[49m\u001B[38;5;241;43m-\u001B[39;49m\u001B[38;5;241;43m1\u001B[39;49m\u001B[43m,\u001B[49m\u001B[38;5;241;43m3\u001B[39;49m\u001B[43m)\u001B[49m\u001B[43m,\u001B[49m\u001B[43mverbose\u001B[49m\u001B[38;5;241;43m=\u001B[39;49m\u001B[38;5;241;43m0\u001B[39;49m\u001B[43m)\u001B[49m[\u001B[38;5;241m0\u001B[39m]\n\u001B[1;32m     22\u001B[0m action \u001B[38;5;241m=\u001B[39m ddpg_add_exploration_noise(exploration_noise, action, noise_scale\u001B[38;5;241m=\u001B[39m\u001B[38;5;241m0.1\u001B[39m)\n\u001B[1;32m     24\u001B[0m next_state, reward, done,_ ,_ \u001B[38;5;241m=\u001B[39m env\u001B[38;5;241m.\u001B[39mstep(action)\n",
      "File \u001B[0;32m~/PycharmProjects/GymProject/.venv/lib/python3.12/site-packages/keras/src/utils/traceback_utils.py:117\u001B[0m, in \u001B[0;36mfilter_traceback.<locals>.error_handler\u001B[0;34m(*args, **kwargs)\u001B[0m\n\u001B[1;32m    115\u001B[0m filtered_tb \u001B[38;5;241m=\u001B[39m \u001B[38;5;28;01mNone\u001B[39;00m\n\u001B[1;32m    116\u001B[0m \u001B[38;5;28;01mtry\u001B[39;00m:\n\u001B[0;32m--> 117\u001B[0m     \u001B[38;5;28;01mreturn\u001B[39;00m \u001B[43mfn\u001B[49m\u001B[43m(\u001B[49m\u001B[38;5;241;43m*\u001B[39;49m\u001B[43margs\u001B[49m\u001B[43m,\u001B[49m\u001B[43m \u001B[49m\u001B[38;5;241;43m*\u001B[39;49m\u001B[38;5;241;43m*\u001B[39;49m\u001B[43mkwargs\u001B[49m\u001B[43m)\u001B[49m\n\u001B[1;32m    118\u001B[0m \u001B[38;5;28;01mexcept\u001B[39;00m \u001B[38;5;167;01mException\u001B[39;00m \u001B[38;5;28;01mas\u001B[39;00m e:\n\u001B[1;32m    119\u001B[0m     filtered_tb \u001B[38;5;241m=\u001B[39m _process_traceback_frames(e\u001B[38;5;241m.\u001B[39m__traceback__)\n",
      "File \u001B[0;32m~/PycharmProjects/GymProject/.venv/lib/python3.12/site-packages/keras/src/backend/tensorflow/trainer.py:556\u001B[0m, in \u001B[0;36mTensorFlowTrainer.predict\u001B[0;34m(self, x, batch_size, verbose, steps, callbacks)\u001B[0m\n\u001B[1;32m    554\u001B[0m outputs \u001B[38;5;241m=\u001B[39m \u001B[38;5;28;01mNone\u001B[39;00m\n\u001B[1;32m    555\u001B[0m \u001B[38;5;28;01mwith\u001B[39;00m epoch_iterator\u001B[38;5;241m.\u001B[39mcatch_stop_iteration():\n\u001B[0;32m--> 556\u001B[0m \u001B[43m    \u001B[49m\u001B[38;5;28;43;01mfor\u001B[39;49;00m\u001B[43m \u001B[49m\u001B[43mstep\u001B[49m\u001B[43m,\u001B[49m\u001B[43m \u001B[49m\u001B[43miterator\u001B[49m\u001B[43m \u001B[49m\u001B[38;5;129;43;01min\u001B[39;49;00m\u001B[43m \u001B[49m\u001B[43mepoch_iterator\u001B[49m\u001B[43m:\u001B[49m\n\u001B[1;32m    557\u001B[0m \u001B[43m        \u001B[49m\u001B[43mcallbacks\u001B[49m\u001B[38;5;241;43m.\u001B[39;49m\u001B[43mon_predict_batch_begin\u001B[49m\u001B[43m(\u001B[49m\u001B[43mstep\u001B[49m\u001B[43m)\u001B[49m\n\u001B[1;32m    558\u001B[0m \u001B[43m        \u001B[49m\u001B[43mdata\u001B[49m\u001B[43m \u001B[49m\u001B[38;5;241;43m=\u001B[39;49m\u001B[43m \u001B[49m\u001B[43mget_data\u001B[49m\u001B[43m(\u001B[49m\u001B[43miterator\u001B[49m\u001B[43m)\u001B[49m\n",
      "File \u001B[0;32m~/PycharmProjects/GymProject/.venv/lib/python3.12/site-packages/keras/src/backend/tensorflow/trainer.py:729\u001B[0m, in \u001B[0;36mTFEpochIterator.__next__\u001B[0;34m(self)\u001B[0m\n\u001B[1;32m    728\u001B[0m \u001B[38;5;28;01mdef\u001B[39;00m \u001B[38;5;21m__next__\u001B[39m(\u001B[38;5;28mself\u001B[39m):\n\u001B[0;32m--> 729\u001B[0m     \u001B[38;5;28;01mreturn\u001B[39;00m \u001B[38;5;28;43mnext\u001B[39;49m\u001B[43m(\u001B[49m\u001B[38;5;28;43mself\u001B[39;49m\u001B[38;5;241;43m.\u001B[39;49m\u001B[43m_epoch_iterator\u001B[49m\u001B[43m)\u001B[49m\n",
      "File \u001B[0;32m~/PycharmProjects/GymProject/.venv/lib/python3.12/site-packages/keras/src/trainers/epoch_iterator.py:112\u001B[0m, in \u001B[0;36mEpochIterator._enumerate_iterator\u001B[0;34m(self)\u001B[0m\n\u001B[1;32m    110\u001B[0m         \u001B[38;5;28;01myield\u001B[39;00m step, \u001B[38;5;28mself\u001B[39m\u001B[38;5;241m.\u001B[39m_current_iterator\n\u001B[1;32m    111\u001B[0m     \u001B[38;5;28;01mif\u001B[39;00m \u001B[38;5;28mself\u001B[39m\u001B[38;5;241m.\u001B[39m_num_batches \u001B[38;5;129;01mand\u001B[39;00m \u001B[38;5;28mself\u001B[39m\u001B[38;5;241m.\u001B[39m_steps_seen \u001B[38;5;241m>\u001B[39m\u001B[38;5;241m=\u001B[39m \u001B[38;5;28mself\u001B[39m\u001B[38;5;241m.\u001B[39m_num_batches:\n\u001B[0;32m--> 112\u001B[0m         \u001B[38;5;28mself\u001B[39m\u001B[38;5;241m.\u001B[39m_current_iterator \u001B[38;5;241m=\u001B[39m \u001B[38;5;28;43miter\u001B[39;49m\u001B[43m(\u001B[49m\u001B[38;5;28;43mself\u001B[39;49m\u001B[38;5;241;43m.\u001B[39;49m\u001B[43m_get_iterator\u001B[49m\u001B[43m(\u001B[49m\u001B[43m)\u001B[49m\u001B[43m)\u001B[49m\n\u001B[1;32m    113\u001B[0m         \u001B[38;5;28mself\u001B[39m\u001B[38;5;241m.\u001B[39m_steps_seen \u001B[38;5;241m=\u001B[39m \u001B[38;5;241m0\u001B[39m\n\u001B[1;32m    114\u001B[0m \u001B[38;5;28;01melse\u001B[39;00m:\n",
      "File \u001B[0;32m~/PycharmProjects/GymProject/.venv/lib/python3.12/site-packages/tensorflow/python/data/ops/dataset_ops.py:501\u001B[0m, in \u001B[0;36mDatasetV2.__iter__\u001B[0;34m(self)\u001B[0m\n\u001B[1;32m    499\u001B[0m \u001B[38;5;28;01mif\u001B[39;00m context\u001B[38;5;241m.\u001B[39mexecuting_eagerly() \u001B[38;5;129;01mor\u001B[39;00m ops\u001B[38;5;241m.\u001B[39minside_function():\n\u001B[1;32m    500\u001B[0m   \u001B[38;5;28;01mwith\u001B[39;00m ops\u001B[38;5;241m.\u001B[39mcolocate_with(\u001B[38;5;28mself\u001B[39m\u001B[38;5;241m.\u001B[39m_variant_tensor):\n\u001B[0;32m--> 501\u001B[0m     \u001B[38;5;28;01mreturn\u001B[39;00m \u001B[43miterator_ops\u001B[49m\u001B[38;5;241;43m.\u001B[39;49m\u001B[43mOwnedIterator\u001B[49m\u001B[43m(\u001B[49m\u001B[38;5;28;43mself\u001B[39;49m\u001B[43m)\u001B[49m\n\u001B[1;32m    502\u001B[0m \u001B[38;5;28;01melse\u001B[39;00m:\n\u001B[1;32m    503\u001B[0m   \u001B[38;5;28;01mraise\u001B[39;00m \u001B[38;5;167;01mRuntimeError\u001B[39;00m(\u001B[38;5;124m\"\u001B[39m\u001B[38;5;124m`tf.data.Dataset` only supports Python-style \u001B[39m\u001B[38;5;124m\"\u001B[39m\n\u001B[1;32m    504\u001B[0m                      \u001B[38;5;124m\"\u001B[39m\u001B[38;5;124miteration in eager mode or within tf.function.\u001B[39m\u001B[38;5;124m\"\u001B[39m)\n",
      "File \u001B[0;32m~/PycharmProjects/GymProject/.venv/lib/python3.12/site-packages/tensorflow/python/data/ops/iterator_ops.py:709\u001B[0m, in \u001B[0;36mOwnedIterator.__init__\u001B[0;34m(self, dataset, components, element_spec)\u001B[0m\n\u001B[1;32m    705\u001B[0m   \u001B[38;5;28;01mif\u001B[39;00m (components \u001B[38;5;129;01mis\u001B[39;00m \u001B[38;5;129;01mnot\u001B[39;00m \u001B[38;5;28;01mNone\u001B[39;00m \u001B[38;5;129;01mor\u001B[39;00m element_spec \u001B[38;5;129;01mis\u001B[39;00m \u001B[38;5;129;01mnot\u001B[39;00m \u001B[38;5;28;01mNone\u001B[39;00m):\n\u001B[1;32m    706\u001B[0m     \u001B[38;5;28;01mraise\u001B[39;00m \u001B[38;5;167;01mValueError\u001B[39;00m(\n\u001B[1;32m    707\u001B[0m         \u001B[38;5;124m\"\u001B[39m\u001B[38;5;124mWhen `dataset` is provided, `element_spec` and `components` must \u001B[39m\u001B[38;5;124m\"\u001B[39m\n\u001B[1;32m    708\u001B[0m         \u001B[38;5;124m\"\u001B[39m\u001B[38;5;124mnot be specified.\u001B[39m\u001B[38;5;124m\"\u001B[39m)\n\u001B[0;32m--> 709\u001B[0m   \u001B[38;5;28;43mself\u001B[39;49m\u001B[38;5;241;43m.\u001B[39;49m\u001B[43m_create_iterator\u001B[49m\u001B[43m(\u001B[49m\u001B[43mdataset\u001B[49m\u001B[43m)\u001B[49m\n\u001B[1;32m    711\u001B[0m \u001B[38;5;28mself\u001B[39m\u001B[38;5;241m.\u001B[39m_get_next_call_count \u001B[38;5;241m=\u001B[39m \u001B[38;5;241m0\u001B[39m\n",
      "File \u001B[0;32m~/PycharmProjects/GymProject/.venv/lib/python3.12/site-packages/tensorflow/python/data/ops/iterator_ops.py:748\u001B[0m, in \u001B[0;36mOwnedIterator._create_iterator\u001B[0;34m(self, dataset)\u001B[0m\n\u001B[1;32m    745\u001B[0m   \u001B[38;5;28;01massert\u001B[39;00m \u001B[38;5;28mlen\u001B[39m(fulltype\u001B[38;5;241m.\u001B[39margs[\u001B[38;5;241m0\u001B[39m]\u001B[38;5;241m.\u001B[39margs[\u001B[38;5;241m0\u001B[39m]\u001B[38;5;241m.\u001B[39margs) \u001B[38;5;241m==\u001B[39m \u001B[38;5;28mlen\u001B[39m(\n\u001B[1;32m    746\u001B[0m       \u001B[38;5;28mself\u001B[39m\u001B[38;5;241m.\u001B[39m_flat_output_types)\n\u001B[1;32m    747\u001B[0m   \u001B[38;5;28mself\u001B[39m\u001B[38;5;241m.\u001B[39m_iterator_resource\u001B[38;5;241m.\u001B[39mop\u001B[38;5;241m.\u001B[39mexperimental_set_type(fulltype)\n\u001B[0;32m--> 748\u001B[0m \u001B[43mgen_dataset_ops\u001B[49m\u001B[38;5;241;43m.\u001B[39;49m\u001B[43mmake_iterator\u001B[49m\u001B[43m(\u001B[49m\u001B[43mds_variant\u001B[49m\u001B[43m,\u001B[49m\u001B[43m \u001B[49m\u001B[38;5;28;43mself\u001B[39;49m\u001B[38;5;241;43m.\u001B[39;49m\u001B[43m_iterator_resource\u001B[49m\u001B[43m)\u001B[49m\n",
      "File \u001B[0;32m~/PycharmProjects/GymProject/.venv/lib/python3.12/site-packages/tensorflow/python/ops/gen_dataset_ops.py:3478\u001B[0m, in \u001B[0;36mmake_iterator\u001B[0;34m(dataset, iterator, name)\u001B[0m\n\u001B[1;32m   3476\u001B[0m \u001B[38;5;28;01mif\u001B[39;00m tld\u001B[38;5;241m.\u001B[39mis_eager:\n\u001B[1;32m   3477\u001B[0m   \u001B[38;5;28;01mtry\u001B[39;00m:\n\u001B[0;32m-> 3478\u001B[0m     _result \u001B[38;5;241m=\u001B[39m \u001B[43mpywrap_tfe\u001B[49m\u001B[38;5;241;43m.\u001B[39;49m\u001B[43mTFE_Py_FastPathExecute\u001B[49m\u001B[43m(\u001B[49m\n\u001B[1;32m   3479\u001B[0m \u001B[43m      \u001B[49m\u001B[43m_ctx\u001B[49m\u001B[43m,\u001B[49m\u001B[43m \u001B[49m\u001B[38;5;124;43m\"\u001B[39;49m\u001B[38;5;124;43mMakeIterator\u001B[39;49m\u001B[38;5;124;43m\"\u001B[39;49m\u001B[43m,\u001B[49m\u001B[43m \u001B[49m\u001B[43mname\u001B[49m\u001B[43m,\u001B[49m\u001B[43m \u001B[49m\u001B[43mdataset\u001B[49m\u001B[43m,\u001B[49m\u001B[43m \u001B[49m\u001B[43miterator\u001B[49m\u001B[43m)\u001B[49m\n\u001B[1;32m   3480\u001B[0m     \u001B[38;5;28;01mreturn\u001B[39;00m _result\n\u001B[1;32m   3481\u001B[0m   \u001B[38;5;28;01mexcept\u001B[39;00m _core\u001B[38;5;241m.\u001B[39m_NotOkStatusException \u001B[38;5;28;01mas\u001B[39;00m e:\n",
      "\u001B[0;31mKeyboardInterrupt\u001B[0m: "
     ]
    }
   ],
   "execution_count": 36
  },
  {
   "metadata": {
    "ExecuteTime": {
     "end_time": "2024-12-06T17:11:19.640613Z",
     "start_time": "2024-12-06T17:11:19.478744Z"
    }
   },
   "cell_type": "code",
   "source": [
    "import tensorflow as tf\n",
    "import numpy as np\n",
    "import gymnasium as gym\n",
    "import math\n",
    "from PIL import Image\n",
    "import pygame, sys\n",
    "from pygame.locals import *\n",
    "from tensorflow import keras\n",
    "\n",
    "#pygame essentials\n",
    "pygame.init()\n",
    "DISPLAYSURF = pygame.display.set_mode((500,500),0,32)\n",
    "clock = pygame.time.Clock()\n",
    "pygame.display.flip()\n",
    "\n",
    "#openai gym env\n",
    "env = gym.make('Pendulum-v1')\n",
    "state, info = env.reset()\n",
    "\n",
    "done = False\n",
    "count=0\n",
    "done=False\n",
    "steps = 0\n",
    "#loading trained model\n",
    "model = tf.keras.models.load_model('pendulum/actor/actor.keras')\n",
    "total_wins =0\n",
    "episodes = 0\n",
    "\n",
    "\n",
    "def print_summary(text,cood,size):\n",
    "        font = pygame.font.Font(pygame.font.get_default_font(), size)\n",
    "        text_surface = font.render(text, True, (0,0,0))\n",
    "        DISPLAYSURF.blit(text_surface,cood)\n",
    "     \n",
    "while episodes<1000 :\n",
    "    pygame.event.get()\n",
    "    for event in pygame.event.get():\n",
    "                if event.type==QUIT:\n",
    "                                pygame.quit()\n",
    "                                raise Exception('training ended')\n",
    "    # Get the action probabilities from the policy network\n",
    "    # Choose an action based on the action probabilities\n",
    "    \n",
    "    action = model.predict(np.array(state).reshape(-1,3))[0]\n",
    "    \n",
    "    next_state, reward, done, info = env.step(action) # take a step in the environment\n",
    "    print('reward and done?',reward,done)\n",
    "    image = env.render(mode='rgb_array') # render the environment to the screen\n",
    "   \n",
    "    #convert image to pygame surface object\n",
    "    image = Image.fromarray(image,'RGB')\n",
    "    mode,size,data = image.mode,image.size,image.tobytes()\n",
    "    image = pygame.image.fromstring(data, size, mode)\n",
    "\n",
    "    DISPLAYSURF.blit(image,(0,0))\n",
    "    pygame.display.update()\n",
    "    clock.tick(100)\n",
    "    if done:\n",
    "        state, info = env.reset()\n",
    "        pygame.display.update()\n",
    "        pygame.time.delay(100)\n",
    "        episodes+=1\n",
    "        \n",
    "    pygame.time.delay(100)\n",
    "    state = next_state\n",
    "\n",
    "pygame.quit()"
   ],
   "id": "185f1cae3068de40",
   "outputs": [
    {
     "ename": "TypeError",
     "evalue": "<class 'keras.src.models.sequential.Sequential'> could not be deserialized properly. Please ensure that components that are Python object instances (layers, models, etc.) returned by `get_config()` are explicitly deserialized in the model's `from_config()` method.\n\nconfig={'module': 'keras', 'class_name': 'Sequential', 'config': {'name': 'sequential_6', 'trainable': True, 'dtype': {'module': 'keras', 'class_name': 'DTypePolicy', 'config': {'name': 'float32'}, 'registered_name': None, 'shared_object_id': 6255478736}, 'layers': [{'module': 'keras.layers', 'class_name': 'InputLayer', 'config': {'batch_shape': [None, 3], 'dtype': 'float32', 'sparse': False, 'name': 'input_layer_19'}, 'registered_name': None}, {'module': 'keras.layers', 'class_name': 'Dense', 'config': {'name': 'dense_66', 'trainable': True, 'dtype': {'module': 'keras', 'class_name': 'DTypePolicy', 'config': {'name': 'float32'}, 'registered_name': None, 'shared_object_id': 6255478736}, 'units': 128, 'activation': {'module': 'keras.layers', 'class_name': 'LeakyReLU', 'config': {'name': 'leaky_re_lu_54', 'trainable': True, 'dtype': {'module': 'keras', 'class_name': 'DTypePolicy', 'config': {'name': 'float32'}, 'registered_name': None, 'shared_object_id': 6255478736}, 'negative_slope': 0.2}, 'registered_name': None}, 'use_bias': True, 'kernel_initializer': {'module': 'keras.initializers', 'class_name': 'GlorotUniform', 'config': {'seed': None}, 'registered_name': None}, 'bias_initializer': {'module': 'keras.initializers', 'class_name': 'Zeros', 'config': {}, 'registered_name': None}, 'kernel_regularizer': None, 'bias_regularizer': None, 'kernel_constraint': None, 'bias_constraint': None}, 'registered_name': None, 'build_config': {'input_shape': [None, 3]}}, {'module': 'keras.layers', 'class_name': 'Dense', 'config': {'name': 'dense_67', 'trainable': True, 'dtype': {'module': 'keras', 'class_name': 'DTypePolicy', 'config': {'name': 'float32'}, 'registered_name': None, 'shared_object_id': 6255478736}, 'units': 64, 'activation': {'module': 'keras.layers', 'class_name': 'LeakyReLU', 'config': {'name': 'leaky_re_lu_55', 'trainable': True, 'dtype': {'module': 'keras', 'class_name': 'DTypePolicy', 'config': {'name': 'float32'}, 'registered_name': None, 'shared_object_id': 6255478736}, 'negative_slope': 0.2}, 'registered_name': None}, 'use_bias': True, 'kernel_initializer': {'module': 'keras.initializers', 'class_name': 'GlorotUniform', 'config': {'seed': None}, 'registered_name': None}, 'bias_initializer': {'module': 'keras.initializers', 'class_name': 'Zeros', 'config': {}, 'registered_name': None}, 'kernel_regularizer': None, 'bias_regularizer': None, 'kernel_constraint': None, 'bias_constraint': None}, 'registered_name': None, 'build_config': {'input_shape': [None, 128]}}, {'module': 'keras.layers', 'class_name': 'Dense', 'config': {'name': 'dense_68', 'trainable': True, 'dtype': {'module': 'keras', 'class_name': 'DTypePolicy', 'config': {'name': 'float32'}, 'registered_name': None, 'shared_object_id': 6255478736}, 'units': 16, 'activation': {'module': 'keras.layers', 'class_name': 'LeakyReLU', 'config': {'name': 'leaky_re_lu_56', 'trainable': True, 'dtype': {'module': 'keras', 'class_name': 'DTypePolicy', 'config': {'name': 'float32'}, 'registered_name': None, 'shared_object_id': 6255478736}, 'negative_slope': 0.2}, 'registered_name': None}, 'use_bias': True, 'kernel_initializer': {'module': 'keras.initializers', 'class_name': 'GlorotUniform', 'config': {'seed': None}, 'registered_name': None}, 'bias_initializer': {'module': 'keras.initializers', 'class_name': 'Zeros', 'config': {}, 'registered_name': None}, 'kernel_regularizer': None, 'bias_regularizer': None, 'kernel_constraint': None, 'bias_constraint': None}, 'registered_name': None, 'build_config': {'input_shape': [None, 64]}}, {'module': 'keras.layers', 'class_name': 'Dense', 'config': {'name': 'dense_69', 'trainable': True, 'dtype': {'module': 'keras', 'class_name': 'DTypePolicy', 'config': {'name': 'float32'}, 'registered_name': None, 'shared_object_id': 6255478736}, 'units': 1, 'activation': 'tanh', 'use_bias': True, 'kernel_initializer': {'module': 'keras.initializers', 'class_name': 'GlorotUniform', 'config': {'seed': None}, 'registered_name': None}, 'bias_initializer': {'module': 'keras.initializers', 'class_name': 'Zeros', 'config': {}, 'registered_name': None}, 'kernel_regularizer': None, 'bias_regularizer': None, 'kernel_constraint': None, 'bias_constraint': None}, 'registered_name': None, 'build_config': {'input_shape': [None, 16]}}], 'build_input_shape': [None, 3]}, 'registered_name': None, 'build_config': {'input_shape': [None, 3]}}.\n\nException encountered: <class 'keras.src.layers.core.dense.Dense'> could not be deserialized properly. Please ensure that components that are Python object instances (layers, models, etc.) returned by `get_config()` are explicitly deserialized in the model's `from_config()` method.\n\nconfig={'module': 'keras.layers', 'class_name': 'Dense', 'config': {'name': 'dense_66', 'trainable': True, 'dtype': {'module': 'keras', 'class_name': 'DTypePolicy', 'config': {'name': 'float32'}, 'registered_name': None, 'shared_object_id': 6255478736}, 'units': 128, 'activation': {'module': 'keras.layers', 'class_name': 'LeakyReLU', 'config': {'name': 'leaky_re_lu_54', 'trainable': True, 'dtype': {'module': 'keras', 'class_name': 'DTypePolicy', 'config': {'name': 'float32'}, 'registered_name': None, 'shared_object_id': 6255478736}, 'negative_slope': 0.2}, 'registered_name': None}, 'use_bias': True, 'kernel_initializer': {'module': 'keras.initializers', 'class_name': 'GlorotUniform', 'config': {'seed': None}, 'registered_name': None}, 'bias_initializer': {'module': 'keras.initializers', 'class_name': 'Zeros', 'config': {}, 'registered_name': None}, 'kernel_regularizer': None, 'bias_regularizer': None, 'kernel_constraint': None, 'bias_constraint': None}, 'registered_name': None, 'build_config': {'input_shape': [None, 3]}}.\n\nException encountered: Error when deserializing class 'Dense' using config={'name': 'dense_66', 'trainable': True, 'dtype': 'float32', 'units': 128, 'activation': {'module': 'keras.layers', 'class_name': 'LeakyReLU', 'config': {'name': 'leaky_re_lu_54', 'trainable': True, 'dtype': {'module': 'keras', 'class_name': 'DTypePolicy', 'config': {'name': 'float32'}, 'registered_name': None, 'shared_object_id': 6255478736}, 'negative_slope': 0.2}, 'registered_name': None}, 'use_bias': True, 'kernel_initializer': {'module': 'keras.initializers', 'class_name': 'GlorotUniform', 'config': {'seed': None}, 'registered_name': None}, 'bias_initializer': {'module': 'keras.initializers', 'class_name': 'Zeros', 'config': {}, 'registered_name': None}, 'kernel_regularizer': None, 'bias_regularizer': None, 'kernel_constraint': None, 'bias_constraint': None}.\n\nException encountered: Could not interpret activation function identifier: {'module': 'keras.layers', 'class_name': 'LeakyReLU', 'config': {'name': 'leaky_re_lu_54', 'trainable': True, 'dtype': {'module': 'keras', 'class_name': 'DTypePolicy', 'config': {'name': 'float32'}, 'registered_name': None, 'shared_object_id': 6255478736}, 'negative_slope': 0.2}, 'registered_name': None}",
     "output_type": "error",
     "traceback": [
      "\u001B[0;31m---------------------------------------------------------------------------\u001B[0m",
      "\u001B[0;31mValueError\u001B[0m                                Traceback (most recent call last)",
      "File \u001B[0;32m~/PycharmProjects/GymProject/.venv/lib/python3.12/site-packages/keras/src/ops/operation.py:234\u001B[0m, in \u001B[0;36mOperation.from_config\u001B[0;34m(cls, config)\u001B[0m\n\u001B[1;32m    233\u001B[0m \u001B[38;5;28;01mtry\u001B[39;00m:\n\u001B[0;32m--> 234\u001B[0m     \u001B[38;5;28;01mreturn\u001B[39;00m \u001B[38;5;28;43mcls\u001B[39;49m\u001B[43m(\u001B[49m\u001B[38;5;241;43m*\u001B[39;49m\u001B[38;5;241;43m*\u001B[39;49m\u001B[43mconfig\u001B[49m\u001B[43m)\u001B[49m\n\u001B[1;32m    235\u001B[0m \u001B[38;5;28;01mexcept\u001B[39;00m \u001B[38;5;167;01mException\u001B[39;00m \u001B[38;5;28;01mas\u001B[39;00m e:\n",
      "File \u001B[0;32m~/PycharmProjects/GymProject/.venv/lib/python3.12/site-packages/keras/src/layers/core/dense.py:89\u001B[0m, in \u001B[0;36mDense.__init__\u001B[0;34m(self, units, activation, use_bias, kernel_initializer, bias_initializer, kernel_regularizer, bias_regularizer, activity_regularizer, kernel_constraint, bias_constraint, lora_rank, **kwargs)\u001B[0m\n\u001B[1;32m     88\u001B[0m \u001B[38;5;28mself\u001B[39m\u001B[38;5;241m.\u001B[39munits \u001B[38;5;241m=\u001B[39m units\n\u001B[0;32m---> 89\u001B[0m \u001B[38;5;28mself\u001B[39m\u001B[38;5;241m.\u001B[39mactivation \u001B[38;5;241m=\u001B[39m \u001B[43mactivations\u001B[49m\u001B[38;5;241;43m.\u001B[39;49m\u001B[43mget\u001B[49m\u001B[43m(\u001B[49m\u001B[43mactivation\u001B[49m\u001B[43m)\u001B[49m\n\u001B[1;32m     90\u001B[0m \u001B[38;5;28mself\u001B[39m\u001B[38;5;241m.\u001B[39muse_bias \u001B[38;5;241m=\u001B[39m use_bias\n",
      "File \u001B[0;32m~/PycharmProjects/GymProject/.venv/lib/python3.12/site-packages/keras/src/activations/__init__.py:120\u001B[0m, in \u001B[0;36mget\u001B[0;34m(identifier)\u001B[0m\n\u001B[1;32m    119\u001B[0m     \u001B[38;5;28;01mreturn\u001B[39;00m obj\n\u001B[0;32m--> 120\u001B[0m \u001B[38;5;28;01mraise\u001B[39;00m \u001B[38;5;167;01mValueError\u001B[39;00m(\n\u001B[1;32m    121\u001B[0m     \u001B[38;5;124mf\u001B[39m\u001B[38;5;124m\"\u001B[39m\u001B[38;5;124mCould not interpret activation function identifier: \u001B[39m\u001B[38;5;132;01m{\u001B[39;00midentifier\u001B[38;5;132;01m}\u001B[39;00m\u001B[38;5;124m\"\u001B[39m\n\u001B[1;32m    122\u001B[0m )\n",
      "\u001B[0;31mValueError\u001B[0m: Could not interpret activation function identifier: {'module': 'keras.layers', 'class_name': 'LeakyReLU', 'config': {'name': 'leaky_re_lu_54', 'trainable': True, 'dtype': {'module': 'keras', 'class_name': 'DTypePolicy', 'config': {'name': 'float32'}, 'registered_name': None, 'shared_object_id': 6255478736}, 'negative_slope': 0.2}, 'registered_name': None}",
      "\nDuring handling of the above exception, another exception occurred:\n",
      "\u001B[0;31mTypeError\u001B[0m                                 Traceback (most recent call last)",
      "File \u001B[0;32m~/PycharmProjects/GymProject/.venv/lib/python3.12/site-packages/keras/src/saving/serialization_lib.py:718\u001B[0m, in \u001B[0;36mdeserialize_keras_object\u001B[0;34m(config, custom_objects, safe_mode, **kwargs)\u001B[0m\n\u001B[1;32m    717\u001B[0m \u001B[38;5;28;01mtry\u001B[39;00m:\n\u001B[0;32m--> 718\u001B[0m     instance \u001B[38;5;241m=\u001B[39m \u001B[38;5;28;43mcls\u001B[39;49m\u001B[38;5;241;43m.\u001B[39;49m\u001B[43mfrom_config\u001B[49m\u001B[43m(\u001B[49m\u001B[43minner_config\u001B[49m\u001B[43m)\u001B[49m\n\u001B[1;32m    719\u001B[0m \u001B[38;5;28;01mexcept\u001B[39;00m \u001B[38;5;167;01mTypeError\u001B[39;00m \u001B[38;5;28;01mas\u001B[39;00m e:\n",
      "File \u001B[0;32m~/PycharmProjects/GymProject/.venv/lib/python3.12/site-packages/keras/src/ops/operation.py:236\u001B[0m, in \u001B[0;36mOperation.from_config\u001B[0;34m(cls, config)\u001B[0m\n\u001B[1;32m    235\u001B[0m \u001B[38;5;28;01mexcept\u001B[39;00m \u001B[38;5;167;01mException\u001B[39;00m \u001B[38;5;28;01mas\u001B[39;00m e:\n\u001B[0;32m--> 236\u001B[0m     \u001B[38;5;28;01mraise\u001B[39;00m \u001B[38;5;167;01mTypeError\u001B[39;00m(\n\u001B[1;32m    237\u001B[0m         \u001B[38;5;124mf\u001B[39m\u001B[38;5;124m\"\u001B[39m\u001B[38;5;124mError when deserializing class \u001B[39m\u001B[38;5;124m'\u001B[39m\u001B[38;5;132;01m{\u001B[39;00m\u001B[38;5;28mcls\u001B[39m\u001B[38;5;241m.\u001B[39m\u001B[38;5;18m__name__\u001B[39m\u001B[38;5;132;01m}\u001B[39;00m\u001B[38;5;124m'\u001B[39m\u001B[38;5;124m using \u001B[39m\u001B[38;5;124m\"\u001B[39m\n\u001B[1;32m    238\u001B[0m         \u001B[38;5;124mf\u001B[39m\u001B[38;5;124m\"\u001B[39m\u001B[38;5;124mconfig=\u001B[39m\u001B[38;5;132;01m{\u001B[39;00mconfig\u001B[38;5;132;01m}\u001B[39;00m\u001B[38;5;124m.\u001B[39m\u001B[38;5;130;01m\\n\u001B[39;00m\u001B[38;5;130;01m\\n\u001B[39;00m\u001B[38;5;124mException encountered: \u001B[39m\u001B[38;5;132;01m{\u001B[39;00me\u001B[38;5;132;01m}\u001B[39;00m\u001B[38;5;124m\"\u001B[39m\n\u001B[1;32m    239\u001B[0m     )\n",
      "\u001B[0;31mTypeError\u001B[0m: Error when deserializing class 'Dense' using config={'name': 'dense_66', 'trainable': True, 'dtype': 'float32', 'units': 128, 'activation': {'module': 'keras.layers', 'class_name': 'LeakyReLU', 'config': {'name': 'leaky_re_lu_54', 'trainable': True, 'dtype': {'module': 'keras', 'class_name': 'DTypePolicy', 'config': {'name': 'float32'}, 'registered_name': None, 'shared_object_id': 6255478736}, 'negative_slope': 0.2}, 'registered_name': None}, 'use_bias': True, 'kernel_initializer': {'module': 'keras.initializers', 'class_name': 'GlorotUniform', 'config': {'seed': None}, 'registered_name': None}, 'bias_initializer': {'module': 'keras.initializers', 'class_name': 'Zeros', 'config': {}, 'registered_name': None}, 'kernel_regularizer': None, 'bias_regularizer': None, 'kernel_constraint': None, 'bias_constraint': None}.\n\nException encountered: Could not interpret activation function identifier: {'module': 'keras.layers', 'class_name': 'LeakyReLU', 'config': {'name': 'leaky_re_lu_54', 'trainable': True, 'dtype': {'module': 'keras', 'class_name': 'DTypePolicy', 'config': {'name': 'float32'}, 'registered_name': None, 'shared_object_id': 6255478736}, 'negative_slope': 0.2}, 'registered_name': None}",
      "\nDuring handling of the above exception, another exception occurred:\n",
      "\u001B[0;31mTypeError\u001B[0m                                 Traceback (most recent call last)",
      "File \u001B[0;32m~/PycharmProjects/GymProject/.venv/lib/python3.12/site-packages/keras/src/saving/serialization_lib.py:718\u001B[0m, in \u001B[0;36mdeserialize_keras_object\u001B[0;34m(config, custom_objects, safe_mode, **kwargs)\u001B[0m\n\u001B[1;32m    717\u001B[0m \u001B[38;5;28;01mtry\u001B[39;00m:\n\u001B[0;32m--> 718\u001B[0m     instance \u001B[38;5;241m=\u001B[39m \u001B[38;5;28;43mcls\u001B[39;49m\u001B[38;5;241;43m.\u001B[39;49m\u001B[43mfrom_config\u001B[49m\u001B[43m(\u001B[49m\u001B[43minner_config\u001B[49m\u001B[43m)\u001B[49m\n\u001B[1;32m    719\u001B[0m \u001B[38;5;28;01mexcept\u001B[39;00m \u001B[38;5;167;01mTypeError\u001B[39;00m \u001B[38;5;28;01mas\u001B[39;00m e:\n",
      "File \u001B[0;32m~/PycharmProjects/GymProject/.venv/lib/python3.12/site-packages/keras/src/models/sequential.py:355\u001B[0m, in \u001B[0;36mSequential.from_config\u001B[0;34m(cls, config, custom_objects)\u001B[0m\n\u001B[1;32m    354\u001B[0m \u001B[38;5;28;01melse\u001B[39;00m:\n\u001B[0;32m--> 355\u001B[0m     layer \u001B[38;5;241m=\u001B[39m \u001B[43mserialization_lib\u001B[49m\u001B[38;5;241;43m.\u001B[39;49m\u001B[43mdeserialize_keras_object\u001B[49m\u001B[43m(\u001B[49m\n\u001B[1;32m    356\u001B[0m \u001B[43m        \u001B[49m\u001B[43mlayer_config\u001B[49m\u001B[43m,\u001B[49m\n\u001B[1;32m    357\u001B[0m \u001B[43m        \u001B[49m\u001B[43mcustom_objects\u001B[49m\u001B[38;5;241;43m=\u001B[39;49m\u001B[43mcustom_objects\u001B[49m\u001B[43m,\u001B[49m\n\u001B[1;32m    358\u001B[0m \u001B[43m    \u001B[49m\u001B[43m)\u001B[49m\n\u001B[1;32m    359\u001B[0m model\u001B[38;5;241m.\u001B[39madd(layer)\n",
      "File \u001B[0;32m~/PycharmProjects/GymProject/.venv/lib/python3.12/site-packages/keras/src/saving/serialization_lib.py:720\u001B[0m, in \u001B[0;36mdeserialize_keras_object\u001B[0;34m(config, custom_objects, safe_mode, **kwargs)\u001B[0m\n\u001B[1;32m    719\u001B[0m \u001B[38;5;28;01mexcept\u001B[39;00m \u001B[38;5;167;01mTypeError\u001B[39;00m \u001B[38;5;28;01mas\u001B[39;00m e:\n\u001B[0;32m--> 720\u001B[0m     \u001B[38;5;28;01mraise\u001B[39;00m \u001B[38;5;167;01mTypeError\u001B[39;00m(\n\u001B[1;32m    721\u001B[0m         \u001B[38;5;124mf\u001B[39m\u001B[38;5;124m\"\u001B[39m\u001B[38;5;132;01m{\u001B[39;00m\u001B[38;5;28mcls\u001B[39m\u001B[38;5;132;01m}\u001B[39;00m\u001B[38;5;124m could not be deserialized properly. Please\u001B[39m\u001B[38;5;124m\"\u001B[39m\n\u001B[1;32m    722\u001B[0m         \u001B[38;5;124m\"\u001B[39m\u001B[38;5;124m ensure that components that are Python object\u001B[39m\u001B[38;5;124m\"\u001B[39m\n\u001B[1;32m    723\u001B[0m         \u001B[38;5;124m\"\u001B[39m\u001B[38;5;124m instances (layers, models, etc.) returned by\u001B[39m\u001B[38;5;124m\"\u001B[39m\n\u001B[1;32m    724\u001B[0m         \u001B[38;5;124m\"\u001B[39m\u001B[38;5;124m `get_config()` are explicitly deserialized in the\u001B[39m\u001B[38;5;124m\"\u001B[39m\n\u001B[1;32m    725\u001B[0m         \u001B[38;5;124m\"\u001B[39m\u001B[38;5;124m model\u001B[39m\u001B[38;5;124m'\u001B[39m\u001B[38;5;124ms `from_config()` method.\u001B[39m\u001B[38;5;124m\"\u001B[39m\n\u001B[1;32m    726\u001B[0m         \u001B[38;5;124mf\u001B[39m\u001B[38;5;124m\"\u001B[39m\u001B[38;5;130;01m\\n\u001B[39;00m\u001B[38;5;130;01m\\n\u001B[39;00m\u001B[38;5;124mconfig=\u001B[39m\u001B[38;5;132;01m{\u001B[39;00mconfig\u001B[38;5;132;01m}\u001B[39;00m\u001B[38;5;124m.\u001B[39m\u001B[38;5;130;01m\\n\u001B[39;00m\u001B[38;5;130;01m\\n\u001B[39;00m\u001B[38;5;124mException encountered: \u001B[39m\u001B[38;5;132;01m{\u001B[39;00me\u001B[38;5;132;01m}\u001B[39;00m\u001B[38;5;124m\"\u001B[39m\n\u001B[1;32m    727\u001B[0m     )\n\u001B[1;32m    728\u001B[0m build_config \u001B[38;5;241m=\u001B[39m config\u001B[38;5;241m.\u001B[39mget(\u001B[38;5;124m\"\u001B[39m\u001B[38;5;124mbuild_config\u001B[39m\u001B[38;5;124m\"\u001B[39m, \u001B[38;5;28;01mNone\u001B[39;00m)\n",
      "\u001B[0;31mTypeError\u001B[0m: <class 'keras.src.layers.core.dense.Dense'> could not be deserialized properly. Please ensure that components that are Python object instances (layers, models, etc.) returned by `get_config()` are explicitly deserialized in the model's `from_config()` method.\n\nconfig={'module': 'keras.layers', 'class_name': 'Dense', 'config': {'name': 'dense_66', 'trainable': True, 'dtype': {'module': 'keras', 'class_name': 'DTypePolicy', 'config': {'name': 'float32'}, 'registered_name': None, 'shared_object_id': 6255478736}, 'units': 128, 'activation': {'module': 'keras.layers', 'class_name': 'LeakyReLU', 'config': {'name': 'leaky_re_lu_54', 'trainable': True, 'dtype': {'module': 'keras', 'class_name': 'DTypePolicy', 'config': {'name': 'float32'}, 'registered_name': None, 'shared_object_id': 6255478736}, 'negative_slope': 0.2}, 'registered_name': None}, 'use_bias': True, 'kernel_initializer': {'module': 'keras.initializers', 'class_name': 'GlorotUniform', 'config': {'seed': None}, 'registered_name': None}, 'bias_initializer': {'module': 'keras.initializers', 'class_name': 'Zeros', 'config': {}, 'registered_name': None}, 'kernel_regularizer': None, 'bias_regularizer': None, 'kernel_constraint': None, 'bias_constraint': None}, 'registered_name': None, 'build_config': {'input_shape': [None, 3]}}.\n\nException encountered: Error when deserializing class 'Dense' using config={'name': 'dense_66', 'trainable': True, 'dtype': 'float32', 'units': 128, 'activation': {'module': 'keras.layers', 'class_name': 'LeakyReLU', 'config': {'name': 'leaky_re_lu_54', 'trainable': True, 'dtype': {'module': 'keras', 'class_name': 'DTypePolicy', 'config': {'name': 'float32'}, 'registered_name': None, 'shared_object_id': 6255478736}, 'negative_slope': 0.2}, 'registered_name': None}, 'use_bias': True, 'kernel_initializer': {'module': 'keras.initializers', 'class_name': 'GlorotUniform', 'config': {'seed': None}, 'registered_name': None}, 'bias_initializer': {'module': 'keras.initializers', 'class_name': 'Zeros', 'config': {}, 'registered_name': None}, 'kernel_regularizer': None, 'bias_regularizer': None, 'kernel_constraint': None, 'bias_constraint': None}.\n\nException encountered: Could not interpret activation function identifier: {'module': 'keras.layers', 'class_name': 'LeakyReLU', 'config': {'name': 'leaky_re_lu_54', 'trainable': True, 'dtype': {'module': 'keras', 'class_name': 'DTypePolicy', 'config': {'name': 'float32'}, 'registered_name': None, 'shared_object_id': 6255478736}, 'negative_slope': 0.2}, 'registered_name': None}",
      "\nDuring handling of the above exception, another exception occurred:\n",
      "\u001B[0;31mTypeError\u001B[0m                                 Traceback (most recent call last)",
      "Cell \u001B[0;32mIn[37], line 25\u001B[0m\n\u001B[1;32m     23\u001B[0m steps \u001B[38;5;241m=\u001B[39m \u001B[38;5;241m0\u001B[39m\n\u001B[1;32m     24\u001B[0m \u001B[38;5;66;03m#loading trained model\u001B[39;00m\n\u001B[0;32m---> 25\u001B[0m model \u001B[38;5;241m=\u001B[39m \u001B[43mtf\u001B[49m\u001B[38;5;241;43m.\u001B[39;49m\u001B[43mkeras\u001B[49m\u001B[38;5;241;43m.\u001B[39;49m\u001B[43mmodels\u001B[49m\u001B[38;5;241;43m.\u001B[39;49m\u001B[43mload_model\u001B[49m\u001B[43m(\u001B[49m\u001B[38;5;124;43m'\u001B[39;49m\u001B[38;5;124;43mpendulum/actor/actor.keras\u001B[39;49m\u001B[38;5;124;43m'\u001B[39;49m\u001B[43m)\u001B[49m\n\u001B[1;32m     26\u001B[0m total_wins \u001B[38;5;241m=\u001B[39m\u001B[38;5;241m0\u001B[39m\n\u001B[1;32m     27\u001B[0m episodes \u001B[38;5;241m=\u001B[39m \u001B[38;5;241m0\u001B[39m\n",
      "File \u001B[0;32m~/PycharmProjects/GymProject/.venv/lib/python3.12/site-packages/keras/src/saving/saving_api.py:189\u001B[0m, in \u001B[0;36mload_model\u001B[0;34m(filepath, custom_objects, compile, safe_mode)\u001B[0m\n\u001B[1;32m    186\u001B[0m         is_keras_zip \u001B[38;5;241m=\u001B[39m \u001B[38;5;28;01mTrue\u001B[39;00m\n\u001B[1;32m    188\u001B[0m \u001B[38;5;28;01mif\u001B[39;00m is_keras_zip \u001B[38;5;129;01mor\u001B[39;00m is_keras_dir \u001B[38;5;129;01mor\u001B[39;00m is_hf:\n\u001B[0;32m--> 189\u001B[0m     \u001B[38;5;28;01mreturn\u001B[39;00m \u001B[43msaving_lib\u001B[49m\u001B[38;5;241;43m.\u001B[39;49m\u001B[43mload_model\u001B[49m\u001B[43m(\u001B[49m\n\u001B[1;32m    190\u001B[0m \u001B[43m        \u001B[49m\u001B[43mfilepath\u001B[49m\u001B[43m,\u001B[49m\n\u001B[1;32m    191\u001B[0m \u001B[43m        \u001B[49m\u001B[43mcustom_objects\u001B[49m\u001B[38;5;241;43m=\u001B[39;49m\u001B[43mcustom_objects\u001B[49m\u001B[43m,\u001B[49m\n\u001B[1;32m    192\u001B[0m \u001B[43m        \u001B[49m\u001B[38;5;28;43mcompile\u001B[39;49m\u001B[38;5;241;43m=\u001B[39;49m\u001B[38;5;28;43mcompile\u001B[39;49m\u001B[43m,\u001B[49m\n\u001B[1;32m    193\u001B[0m \u001B[43m        \u001B[49m\u001B[43msafe_mode\u001B[49m\u001B[38;5;241;43m=\u001B[39;49m\u001B[43msafe_mode\u001B[49m\u001B[43m,\u001B[49m\n\u001B[1;32m    194\u001B[0m \u001B[43m    \u001B[49m\u001B[43m)\u001B[49m\n\u001B[1;32m    195\u001B[0m \u001B[38;5;28;01mif\u001B[39;00m \u001B[38;5;28mstr\u001B[39m(filepath)\u001B[38;5;241m.\u001B[39mendswith((\u001B[38;5;124m\"\u001B[39m\u001B[38;5;124m.h5\u001B[39m\u001B[38;5;124m\"\u001B[39m, \u001B[38;5;124m\"\u001B[39m\u001B[38;5;124m.hdf5\u001B[39m\u001B[38;5;124m\"\u001B[39m)):\n\u001B[1;32m    196\u001B[0m     \u001B[38;5;28;01mreturn\u001B[39;00m legacy_h5_format\u001B[38;5;241m.\u001B[39mload_model_from_hdf5(\n\u001B[1;32m    197\u001B[0m         filepath, custom_objects\u001B[38;5;241m=\u001B[39mcustom_objects, \u001B[38;5;28mcompile\u001B[39m\u001B[38;5;241m=\u001B[39m\u001B[38;5;28mcompile\u001B[39m\n\u001B[1;32m    198\u001B[0m     )\n",
      "File \u001B[0;32m~/PycharmProjects/GymProject/.venv/lib/python3.12/site-packages/keras/src/saving/saving_lib.py:367\u001B[0m, in \u001B[0;36mload_model\u001B[0;34m(filepath, custom_objects, compile, safe_mode)\u001B[0m\n\u001B[1;32m    362\u001B[0m     \u001B[38;5;28;01mraise\u001B[39;00m \u001B[38;5;167;01mValueError\u001B[39;00m(\n\u001B[1;32m    363\u001B[0m         \u001B[38;5;124m\"\u001B[39m\u001B[38;5;124mInvalid filename: expected a `.keras` extension. \u001B[39m\u001B[38;5;124m\"\u001B[39m\n\u001B[1;32m    364\u001B[0m         \u001B[38;5;124mf\u001B[39m\u001B[38;5;124m\"\u001B[39m\u001B[38;5;124mReceived: filepath=\u001B[39m\u001B[38;5;132;01m{\u001B[39;00mfilepath\u001B[38;5;132;01m}\u001B[39;00m\u001B[38;5;124m\"\u001B[39m\n\u001B[1;32m    365\u001B[0m     )\n\u001B[1;32m    366\u001B[0m \u001B[38;5;28;01mwith\u001B[39;00m \u001B[38;5;28mopen\u001B[39m(filepath, \u001B[38;5;124m\"\u001B[39m\u001B[38;5;124mrb\u001B[39m\u001B[38;5;124m\"\u001B[39m) \u001B[38;5;28;01mas\u001B[39;00m f:\n\u001B[0;32m--> 367\u001B[0m     \u001B[38;5;28;01mreturn\u001B[39;00m \u001B[43m_load_model_from_fileobj\u001B[49m\u001B[43m(\u001B[49m\n\u001B[1;32m    368\u001B[0m \u001B[43m        \u001B[49m\u001B[43mf\u001B[49m\u001B[43m,\u001B[49m\u001B[43m \u001B[49m\u001B[43mcustom_objects\u001B[49m\u001B[43m,\u001B[49m\u001B[43m \u001B[49m\u001B[38;5;28;43mcompile\u001B[39;49m\u001B[43m,\u001B[49m\u001B[43m \u001B[49m\u001B[43msafe_mode\u001B[49m\n\u001B[1;32m    369\u001B[0m \u001B[43m    \u001B[49m\u001B[43m)\u001B[49m\n",
      "File \u001B[0;32m~/PycharmProjects/GymProject/.venv/lib/python3.12/site-packages/keras/src/saving/saving_lib.py:444\u001B[0m, in \u001B[0;36m_load_model_from_fileobj\u001B[0;34m(fileobj, custom_objects, compile, safe_mode)\u001B[0m\n\u001B[1;32m    441\u001B[0m \u001B[38;5;28;01mwith\u001B[39;00m zf\u001B[38;5;241m.\u001B[39mopen(_CONFIG_FILENAME, \u001B[38;5;124m\"\u001B[39m\u001B[38;5;124mr\u001B[39m\u001B[38;5;124m\"\u001B[39m) \u001B[38;5;28;01mas\u001B[39;00m f:\n\u001B[1;32m    442\u001B[0m     config_json \u001B[38;5;241m=\u001B[39m f\u001B[38;5;241m.\u001B[39mread()\n\u001B[0;32m--> 444\u001B[0m model \u001B[38;5;241m=\u001B[39m \u001B[43m_model_from_config\u001B[49m\u001B[43m(\u001B[49m\n\u001B[1;32m    445\u001B[0m \u001B[43m    \u001B[49m\u001B[43mconfig_json\u001B[49m\u001B[43m,\u001B[49m\u001B[43m \u001B[49m\u001B[43mcustom_objects\u001B[49m\u001B[43m,\u001B[49m\u001B[43m \u001B[49m\u001B[38;5;28;43mcompile\u001B[39;49m\u001B[43m,\u001B[49m\u001B[43m \u001B[49m\u001B[43msafe_mode\u001B[49m\n\u001B[1;32m    446\u001B[0m \u001B[43m\u001B[49m\u001B[43m)\u001B[49m\n\u001B[1;32m    448\u001B[0m all_filenames \u001B[38;5;241m=\u001B[39m zf\u001B[38;5;241m.\u001B[39mnamelist()\n\u001B[1;32m    449\u001B[0m extract_dir \u001B[38;5;241m=\u001B[39m \u001B[38;5;28;01mNone\u001B[39;00m\n",
      "File \u001B[0;32m~/PycharmProjects/GymProject/.venv/lib/python3.12/site-packages/keras/src/saving/saving_lib.py:433\u001B[0m, in \u001B[0;36m_model_from_config\u001B[0;34m(config_json, custom_objects, compile, safe_mode)\u001B[0m\n\u001B[1;32m    431\u001B[0m \u001B[38;5;66;03m# Construct the model from the configuration file in the archive.\u001B[39;00m\n\u001B[1;32m    432\u001B[0m \u001B[38;5;28;01mwith\u001B[39;00m ObjectSharingScope():\n\u001B[0;32m--> 433\u001B[0m     model \u001B[38;5;241m=\u001B[39m \u001B[43mdeserialize_keras_object\u001B[49m\u001B[43m(\u001B[49m\n\u001B[1;32m    434\u001B[0m \u001B[43m        \u001B[49m\u001B[43mconfig_dict\u001B[49m\u001B[43m,\u001B[49m\u001B[43m \u001B[49m\u001B[43mcustom_objects\u001B[49m\u001B[43m,\u001B[49m\u001B[43m \u001B[49m\u001B[43msafe_mode\u001B[49m\u001B[38;5;241;43m=\u001B[39;49m\u001B[43msafe_mode\u001B[49m\n\u001B[1;32m    435\u001B[0m \u001B[43m    \u001B[49m\u001B[43m)\u001B[49m\n\u001B[1;32m    436\u001B[0m \u001B[38;5;28;01mreturn\u001B[39;00m model\n",
      "File \u001B[0;32m~/PycharmProjects/GymProject/.venv/lib/python3.12/site-packages/keras/src/saving/serialization_lib.py:720\u001B[0m, in \u001B[0;36mdeserialize_keras_object\u001B[0;34m(config, custom_objects, safe_mode, **kwargs)\u001B[0m\n\u001B[1;32m    718\u001B[0m     instance \u001B[38;5;241m=\u001B[39m \u001B[38;5;28mcls\u001B[39m\u001B[38;5;241m.\u001B[39mfrom_config(inner_config)\n\u001B[1;32m    719\u001B[0m \u001B[38;5;28;01mexcept\u001B[39;00m \u001B[38;5;167;01mTypeError\u001B[39;00m \u001B[38;5;28;01mas\u001B[39;00m e:\n\u001B[0;32m--> 720\u001B[0m     \u001B[38;5;28;01mraise\u001B[39;00m \u001B[38;5;167;01mTypeError\u001B[39;00m(\n\u001B[1;32m    721\u001B[0m         \u001B[38;5;124mf\u001B[39m\u001B[38;5;124m\"\u001B[39m\u001B[38;5;132;01m{\u001B[39;00m\u001B[38;5;28mcls\u001B[39m\u001B[38;5;132;01m}\u001B[39;00m\u001B[38;5;124m could not be deserialized properly. Please\u001B[39m\u001B[38;5;124m\"\u001B[39m\n\u001B[1;32m    722\u001B[0m         \u001B[38;5;124m\"\u001B[39m\u001B[38;5;124m ensure that components that are Python object\u001B[39m\u001B[38;5;124m\"\u001B[39m\n\u001B[1;32m    723\u001B[0m         \u001B[38;5;124m\"\u001B[39m\u001B[38;5;124m instances (layers, models, etc.) returned by\u001B[39m\u001B[38;5;124m\"\u001B[39m\n\u001B[1;32m    724\u001B[0m         \u001B[38;5;124m\"\u001B[39m\u001B[38;5;124m `get_config()` are explicitly deserialized in the\u001B[39m\u001B[38;5;124m\"\u001B[39m\n\u001B[1;32m    725\u001B[0m         \u001B[38;5;124m\"\u001B[39m\u001B[38;5;124m model\u001B[39m\u001B[38;5;124m'\u001B[39m\u001B[38;5;124ms `from_config()` method.\u001B[39m\u001B[38;5;124m\"\u001B[39m\n\u001B[1;32m    726\u001B[0m         \u001B[38;5;124mf\u001B[39m\u001B[38;5;124m\"\u001B[39m\u001B[38;5;130;01m\\n\u001B[39;00m\u001B[38;5;130;01m\\n\u001B[39;00m\u001B[38;5;124mconfig=\u001B[39m\u001B[38;5;132;01m{\u001B[39;00mconfig\u001B[38;5;132;01m}\u001B[39;00m\u001B[38;5;124m.\u001B[39m\u001B[38;5;130;01m\\n\u001B[39;00m\u001B[38;5;130;01m\\n\u001B[39;00m\u001B[38;5;124mException encountered: \u001B[39m\u001B[38;5;132;01m{\u001B[39;00me\u001B[38;5;132;01m}\u001B[39;00m\u001B[38;5;124m\"\u001B[39m\n\u001B[1;32m    727\u001B[0m     )\n\u001B[1;32m    728\u001B[0m build_config \u001B[38;5;241m=\u001B[39m config\u001B[38;5;241m.\u001B[39mget(\u001B[38;5;124m\"\u001B[39m\u001B[38;5;124mbuild_config\u001B[39m\u001B[38;5;124m\"\u001B[39m, \u001B[38;5;28;01mNone\u001B[39;00m)\n\u001B[1;32m    729\u001B[0m \u001B[38;5;28;01mif\u001B[39;00m build_config \u001B[38;5;129;01mand\u001B[39;00m \u001B[38;5;129;01mnot\u001B[39;00m instance\u001B[38;5;241m.\u001B[39mbuilt:\n",
      "\u001B[0;31mTypeError\u001B[0m: <class 'keras.src.models.sequential.Sequential'> could not be deserialized properly. Please ensure that components that are Python object instances (layers, models, etc.) returned by `get_config()` are explicitly deserialized in the model's `from_config()` method.\n\nconfig={'module': 'keras', 'class_name': 'Sequential', 'config': {'name': 'sequential_6', 'trainable': True, 'dtype': {'module': 'keras', 'class_name': 'DTypePolicy', 'config': {'name': 'float32'}, 'registered_name': None, 'shared_object_id': 6255478736}, 'layers': [{'module': 'keras.layers', 'class_name': 'InputLayer', 'config': {'batch_shape': [None, 3], 'dtype': 'float32', 'sparse': False, 'name': 'input_layer_19'}, 'registered_name': None}, {'module': 'keras.layers', 'class_name': 'Dense', 'config': {'name': 'dense_66', 'trainable': True, 'dtype': {'module': 'keras', 'class_name': 'DTypePolicy', 'config': {'name': 'float32'}, 'registered_name': None, 'shared_object_id': 6255478736}, 'units': 128, 'activation': {'module': 'keras.layers', 'class_name': 'LeakyReLU', 'config': {'name': 'leaky_re_lu_54', 'trainable': True, 'dtype': {'module': 'keras', 'class_name': 'DTypePolicy', 'config': {'name': 'float32'}, 'registered_name': None, 'shared_object_id': 6255478736}, 'negative_slope': 0.2}, 'registered_name': None}, 'use_bias': True, 'kernel_initializer': {'module': 'keras.initializers', 'class_name': 'GlorotUniform', 'config': {'seed': None}, 'registered_name': None}, 'bias_initializer': {'module': 'keras.initializers', 'class_name': 'Zeros', 'config': {}, 'registered_name': None}, 'kernel_regularizer': None, 'bias_regularizer': None, 'kernel_constraint': None, 'bias_constraint': None}, 'registered_name': None, 'build_config': {'input_shape': [None, 3]}}, {'module': 'keras.layers', 'class_name': 'Dense', 'config': {'name': 'dense_67', 'trainable': True, 'dtype': {'module': 'keras', 'class_name': 'DTypePolicy', 'config': {'name': 'float32'}, 'registered_name': None, 'shared_object_id': 6255478736}, 'units': 64, 'activation': {'module': 'keras.layers', 'class_name': 'LeakyReLU', 'config': {'name': 'leaky_re_lu_55', 'trainable': True, 'dtype': {'module': 'keras', 'class_name': 'DTypePolicy', 'config': {'name': 'float32'}, 'registered_name': None, 'shared_object_id': 6255478736}, 'negative_slope': 0.2}, 'registered_name': None}, 'use_bias': True, 'kernel_initializer': {'module': 'keras.initializers', 'class_name': 'GlorotUniform', 'config': {'seed': None}, 'registered_name': None}, 'bias_initializer': {'module': 'keras.initializers', 'class_name': 'Zeros', 'config': {}, 'registered_name': None}, 'kernel_regularizer': None, 'bias_regularizer': None, 'kernel_constraint': None, 'bias_constraint': None}, 'registered_name': None, 'build_config': {'input_shape': [None, 128]}}, {'module': 'keras.layers', 'class_name': 'Dense', 'config': {'name': 'dense_68', 'trainable': True, 'dtype': {'module': 'keras', 'class_name': 'DTypePolicy', 'config': {'name': 'float32'}, 'registered_name': None, 'shared_object_id': 6255478736}, 'units': 16, 'activation': {'module': 'keras.layers', 'class_name': 'LeakyReLU', 'config': {'name': 'leaky_re_lu_56', 'trainable': True, 'dtype': {'module': 'keras', 'class_name': 'DTypePolicy', 'config': {'name': 'float32'}, 'registered_name': None, 'shared_object_id': 6255478736}, 'negative_slope': 0.2}, 'registered_name': None}, 'use_bias': True, 'kernel_initializer': {'module': 'keras.initializers', 'class_name': 'GlorotUniform', 'config': {'seed': None}, 'registered_name': None}, 'bias_initializer': {'module': 'keras.initializers', 'class_name': 'Zeros', 'config': {}, 'registered_name': None}, 'kernel_regularizer': None, 'bias_regularizer': None, 'kernel_constraint': None, 'bias_constraint': None}, 'registered_name': None, 'build_config': {'input_shape': [None, 64]}}, {'module': 'keras.layers', 'class_name': 'Dense', 'config': {'name': 'dense_69', 'trainable': True, 'dtype': {'module': 'keras', 'class_name': 'DTypePolicy', 'config': {'name': 'float32'}, 'registered_name': None, 'shared_object_id': 6255478736}, 'units': 1, 'activation': 'tanh', 'use_bias': True, 'kernel_initializer': {'module': 'keras.initializers', 'class_name': 'GlorotUniform', 'config': {'seed': None}, 'registered_name': None}, 'bias_initializer': {'module': 'keras.initializers', 'class_name': 'Zeros', 'config': {}, 'registered_name': None}, 'kernel_regularizer': None, 'bias_regularizer': None, 'kernel_constraint': None, 'bias_constraint': None}, 'registered_name': None, 'build_config': {'input_shape': [None, 16]}}], 'build_input_shape': [None, 3]}, 'registered_name': None, 'build_config': {'input_shape': [None, 3]}}.\n\nException encountered: <class 'keras.src.layers.core.dense.Dense'> could not be deserialized properly. Please ensure that components that are Python object instances (layers, models, etc.) returned by `get_config()` are explicitly deserialized in the model's `from_config()` method.\n\nconfig={'module': 'keras.layers', 'class_name': 'Dense', 'config': {'name': 'dense_66', 'trainable': True, 'dtype': {'module': 'keras', 'class_name': 'DTypePolicy', 'config': {'name': 'float32'}, 'registered_name': None, 'shared_object_id': 6255478736}, 'units': 128, 'activation': {'module': 'keras.layers', 'class_name': 'LeakyReLU', 'config': {'name': 'leaky_re_lu_54', 'trainable': True, 'dtype': {'module': 'keras', 'class_name': 'DTypePolicy', 'config': {'name': 'float32'}, 'registered_name': None, 'shared_object_id': 6255478736}, 'negative_slope': 0.2}, 'registered_name': None}, 'use_bias': True, 'kernel_initializer': {'module': 'keras.initializers', 'class_name': 'GlorotUniform', 'config': {'seed': None}, 'registered_name': None}, 'bias_initializer': {'module': 'keras.initializers', 'class_name': 'Zeros', 'config': {}, 'registered_name': None}, 'kernel_regularizer': None, 'bias_regularizer': None, 'kernel_constraint': None, 'bias_constraint': None}, 'registered_name': None, 'build_config': {'input_shape': [None, 3]}}.\n\nException encountered: Error when deserializing class 'Dense' using config={'name': 'dense_66', 'trainable': True, 'dtype': 'float32', 'units': 128, 'activation': {'module': 'keras.layers', 'class_name': 'LeakyReLU', 'config': {'name': 'leaky_re_lu_54', 'trainable': True, 'dtype': {'module': 'keras', 'class_name': 'DTypePolicy', 'config': {'name': 'float32'}, 'registered_name': None, 'shared_object_id': 6255478736}, 'negative_slope': 0.2}, 'registered_name': None}, 'use_bias': True, 'kernel_initializer': {'module': 'keras.initializers', 'class_name': 'GlorotUniform', 'config': {'seed': None}, 'registered_name': None}, 'bias_initializer': {'module': 'keras.initializers', 'class_name': 'Zeros', 'config': {}, 'registered_name': None}, 'kernel_regularizer': None, 'bias_regularizer': None, 'kernel_constraint': None, 'bias_constraint': None}.\n\nException encountered: Could not interpret activation function identifier: {'module': 'keras.layers', 'class_name': 'LeakyReLU', 'config': {'name': 'leaky_re_lu_54', 'trainable': True, 'dtype': {'module': 'keras', 'class_name': 'DTypePolicy', 'config': {'name': 'float32'}, 'registered_name': None, 'shared_object_id': 6255478736}, 'negative_slope': 0.2}, 'registered_name': None}"
     ]
    }
   ],
   "execution_count": 37
  },
  {
   "metadata": {},
   "cell_type": "code",
   "source": "",
   "id": "9c9804976ef2ab46",
   "outputs": [],
   "execution_count": null
  }
 ],
 "metadata": {
  "kernelspec": {
   "display_name": "Python 3",
   "language": "python",
   "name": "python3"
  },
  "language_info": {
   "codemirror_mode": {
    "name": "ipython",
    "version": 2
   },
   "file_extension": ".py",
   "mimetype": "text/x-python",
   "name": "python",
   "nbconvert_exporter": "python",
   "pygments_lexer": "ipython2",
   "version": "2.7.6"
  }
 },
 "nbformat": 4,
 "nbformat_minor": 5
}
