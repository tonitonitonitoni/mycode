{
 "cells": [
  {
   "metadata": {
    "ExecuteTime": {
     "end_time": "2024-09-25T16:15:38.250403Z",
     "start_time": "2024-09-25T16:15:38.246150Z"
    }
   },
   "cell_type": "code",
   "source": [
    "import cv2  # Import the OpenCV library\n",
    "import numpy as np  # Import Numpy library\n",
    "from scipy.spatial.transform import Rotation as R\n",
    "import math  # Math library"
   ],
   "id": "24504b42c859b405",
   "outputs": [],
   "execution_count": 54
  },
  {
   "metadata": {
    "ExecuteTime": {
     "end_time": "2024-09-25T16:15:38.266576Z",
     "start_time": "2024-09-25T16:15:38.262332Z"
    }
   },
   "cell_type": "code",
   "source": [
    "markerSize = 0.0526*1000 # millimetres\n",
    "\n",
    "# Calibration parameters yaml file\n",
    "calFile = 'calibration_chessboard.yaml'\n",
    "cv_file=cv2.FileStorage(calFile, cv2.FILE_STORAGE_READ)\n",
    "mtx=cv_file.getNode('K').mat()\n",
    "dist=cv_file.getNode('D').mat()\n",
    "cv_file.release()"
   ],
   "id": "18df16032254a081",
   "outputs": [],
   "execution_count": 55
  },
  {
   "cell_type": "code",
   "id": "initial_id",
   "metadata": {
    "collapsed": true,
    "ExecuteTime": {
     "end_time": "2024-09-25T16:15:38.276429Z",
     "start_time": "2024-09-25T16:15:38.269128Z"
    }
   },
   "source": [
    "\n",
    "def euler_from_quaternion(x, y, z, w):\n",
    "    \"\"\"\n",
    "    Convert a quaternion into euler angles (roll, pitch, yaw)\n",
    "    roll is rotation around x in radians (counterclockwise)\n",
    "    pitch is rotation around y in radians (counterclockwise)\n",
    "    yaw is rotation around z in radians (counterclockwise)\n",
    "    \"\"\"\n",
    "    t0 = +2.0 * (w * x + y * z)\n",
    "    t1 = +1.0 - 2.0 * (x * x + y * y)\n",
    "    roll_x = math.atan2(t0, t1)\n",
    "\n",
    "    t2 = +2.0 * (w * y - z * x)\n",
    "    t2 = +1.0 if t2 > +1.0 else t2\n",
    "    t2 = -1.0 if t2 < -1.0 else t2\n",
    "    pitch_y = math.asin(t2)\n",
    "\n",
    "    t3 = +2.0 * (w * z + x * y)\n",
    "    t4 = +1.0 - 2.0 * (y * y + z * z)\n",
    "    yaw_z = math.atan2(t3, t4)\n",
    "\n",
    "    return roll_x, pitch_y, yaw_z  # in radians\n"
   ],
   "outputs": [],
   "execution_count": 56
  },
  {
   "metadata": {
    "ExecuteTime": {
     "end_time": "2024-09-25T16:15:38.284548Z",
     "start_time": "2024-09-25T16:15:38.277530Z"
    }
   },
   "cell_type": "code",
   "source": [
    "def my_estimatePoseSingleMarkers(corners, marker_size, mtx, distortion):\n",
    "    '''\n",
    "    This will estimate the rvec and tvec for each of the marker corners detected by:\n",
    "       corners, ids, rejectedImgPoints = detector.detectMarkers(image)\n",
    "    corners - is an array of detected corners for each detected marker in the image\n",
    "    marker_size - is the size of the detected markers\n",
    "    mtx - is the camera matrix\n",
    "    distortion - is the camera distortion matrix\n",
    "    RETURN list of rvecs, tvecs, and trash (so that it corresponds to the old estimatePoseSingleMarkers())\n",
    "    '''\n",
    "    marker_points = np.array([[-marker_size / 2, marker_size / 2, 0],\n",
    "                              [marker_size / 2, marker_size / 2, 0],\n",
    "                              [marker_size / 2, -marker_size / 2, 0],\n",
    "                              [-marker_size / 2, -marker_size / 2, 0]], dtype=np.float32)\n",
    "    trash = []\n",
    "    rvecs = []\n",
    "    tvecs = []\n",
    "    for c in corners:\n",
    "        nada, R, t = cv2.solvePnP(marker_points, c, mtx, distortion, False, cv2.SOLVEPNP_IPPE_SQUARE)\n",
    "        rvecs.append(R)\n",
    "        tvecs.append(t)\n",
    "        trash.append(nada)\n",
    "    return rvecs, tvecs, trash"
   ],
   "id": "d3ef16d559fd66d8",
   "outputs": [],
   "execution_count": 57
  },
  {
   "metadata": {
    "ExecuteTime": {
     "end_time": "2024-09-25T16:15:38.291907Z",
     "start_time": "2024-09-25T16:15:38.286265Z"
    }
   },
   "cell_type": "code",
   "source": [
    "boardVertical=.084*1000\n",
    "boardHorizontal=.104*1000\n",
    "markerPositions={25:(markerSize/2, markerSize/2, 0), 26:(markerSize/2, markerSize/2+boardVertical, 0), 20:(markerSize/2+boardHorizontal, markerSize/2, 0), 27:(markerSize/2+boardHorizontal, markerSize/2+boardVertical, 0)}\n",
    "\n",
    "#print(markerPositions[25])"
   ],
   "id": "403b41ba8ca42fa",
   "outputs": [],
   "execution_count": 58
  },
  {
   "metadata": {
    "ExecuteTime": {
     "end_time": "2024-09-25T16:17:38.702318Z",
     "start_time": "2024-09-25T16:15:38.314041Z"
    }
   },
   "cell_type": "code",
   "source": [
    "\n",
    "\n",
    "aruco_dict = cv2.aruco.getPredefinedDictionary(cv2.aruco.DICT_7X7_50)\n",
    "parameters = cv2.aruco.DetectorParameters()\n",
    "# Create the ArUco detector\n",
    "detector = cv2.aruco.ArucoDetector(aruco_dict, parameters)\n",
    "\n",
    "cap=cv2.VideoCapture(0)\n",
    "while True:\n",
    "  ret, frame=cap.read()\n",
    "  gray = cv2.cvtColor(frame, cv2.COLOR_BGR2GRAY)\n",
    "  corners, marker_ids, rejected = detector.detectMarkers(gray)\n",
    "  if marker_ids is not None:\n",
    "    cv2.aruco.drawDetectedMarkers(frame, corners, marker_ids)\n",
    "    rvecs, tvecs, obj_points = my_estimatePoseSingleMarkers(corners,\n",
    "                                                            markerSize,\n",
    "                                                            mtx,\n",
    "                                                            dist)\n",
    "    for i, marker_id in enumerate(marker_ids):\n",
    "        rvec=rvecs[i]\n",
    "        tvec=tvecs[i]\n",
    "    \n",
    "        rvec_flip=-1*rvec\n",
    "        tvec_flip=-1*tvec\n",
    "        Rmat, J = cv2.Rodrigues(rvec_flip)\n",
    "        t_RW = np.dot(Rmat, tvec_flip)\n",
    "        t_RW = t_RW.flatten()\n",
    "        r=R.from_matrix(Rmat[0:3, 0:3])\n",
    "        quat=r.as_quat()\n",
    "    \n",
    "        rot_x=quat[0]\n",
    "        rot_y=quat[1]\n",
    "        rot_z=quat[2]\n",
    "        rot_w=quat[3]\n",
    "        roll_x, pitch_y, yaw_z = euler_from_quaternion(rot_x, rot_y, rot_z, rot_w)\n",
    "        yaw=yaw_z*180/np.pi\n",
    "    \n",
    "        marker_posn=markerPositions[marker_id[0]]\n",
    "        marker_x=float(marker_posn[0])\n",
    "        marker_y=float(marker_posn[1])\n",
    "        marker_str=f'Marker {marker_id}, x: {marker_x:.3f}, y: {float(marker_y):.3f}'\n",
    "        marker_textlocn= corners[i][0][1]\n",
    "        m_loc=int(marker_textlocn[0]), int(marker_textlocn[1])\n",
    "        cv2.putText(frame, marker_str, m_loc, cv2.FONT_HERSHEY_PLAIN,1, (0,255, 255), 2)\n",
    "\n",
    "        tvec_str=f'x: {t_RW[0]:.3f} y: {t_RW[1]:.3f} yaw: {yaw:.3f}'\n",
    "        pos=corners[i][0][0]\n",
    "        #print(pos)\n",
    "        cv2.putText(frame, tvec_str, (int(pos[0]), int(pos[1])), cv2.FONT_HERSHEY_PLAIN, 1, (0,0,255), 2)\n",
    "        \n",
    "        poseX=marker_x+t_RW[0]\n",
    "        poseY=marker_y+t_RW[1]\n",
    "        pose_textloc= corners[i][0][2]\n",
    "        p_loc=int(pose_textloc[0]), int(pose_textloc[1])\n",
    "        p_str=f'x: {poseX:.3f} y: {poseY:.3f}'\n",
    "        cv2.putText(frame, p_str, p_loc, cv2.FONT_HERSHEY_PLAIN, 1, (0,0,255), 2)\n",
    "\n",
    "        cv2.drawFrameAxes(frame, mtx, dist, rvec, tvec, 5)\n",
    "  cv2.circle(frame, (int(frame.shape[1]/2), int(frame.shape[0]/2)), 2, (0, 0, 255), -1)\n",
    "  cv2.imshow('frame', frame)\n",
    "  if cv2.waitKey(1) & 0xFF==ord('q'):\n",
    "    break\n",
    "\n",
    "cap.release()\n",
    "cv2.destroyAllWindows()"
   ],
   "id": "77df17ed3484dba2",
   "outputs": [],
   "execution_count": 59
  },
  {
   "metadata": {
    "ExecuteTime": {
     "end_time": "2024-09-25T16:17:38.710917Z",
     "start_time": "2024-09-25T16:17:38.706263Z"
    }
   },
   "cell_type": "code",
   "source": "",
   "id": "a2c3d3a7f33854f8",
   "outputs": [],
   "execution_count": 59
  }
 ],
 "metadata": {
  "kernelspec": {
   "display_name": "Python 3",
   "language": "python",
   "name": "python3"
  },
  "language_info": {
   "codemirror_mode": {
    "name": "ipython",
    "version": 2
   },
   "file_extension": ".py",
   "mimetype": "text/x-python",
   "name": "python",
   "nbconvert_exporter": "python",
   "pygments_lexer": "ipython2",
   "version": "2.7.6"
  }
 },
 "nbformat": 4,
 "nbformat_minor": 5
}
